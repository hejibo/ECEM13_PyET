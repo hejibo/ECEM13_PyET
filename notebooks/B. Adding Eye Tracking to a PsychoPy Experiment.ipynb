{
 "metadata": {
  "name": "B. Adding Eye Tracking to a PsychoPy Experiment"
 },
 "nbformat": 3,
 "nbformat_minor": 0,
 "worksheets": [
  {
   "cells": [
    {
     "cell_type": "markdown",
     "metadata": {},
     "source": [
      "# Using ioHub with PsychoPy\n",
      "\n",
      "## Coder Mode\n",
      "\n",
      "TBC\n",
      "\n",
      "## Builder Mode\n",
      "\n",
      "TBC"
     ]
    },
    {
     "cell_type": "code",
     "collapsed": false,
     "input": [],
     "language": "python",
     "metadata": {},
     "outputs": []
    }
   ],
   "metadata": {}
  }
 ]
}