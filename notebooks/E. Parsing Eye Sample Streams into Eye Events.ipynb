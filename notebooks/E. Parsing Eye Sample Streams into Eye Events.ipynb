{
 "metadata": {
  "name": "E. Parsing Eye Sample Streams into Eye Events"
 },
 "nbformat": 3,
 "nbformat_minor": 0,
 "worksheets": [
  {
   "cells": [
    {
     "cell_type": "code",
     "collapsed": false,
     "input": [
      "# TBC"
     ],
     "language": "python",
     "metadata": {},
     "outputs": []
    }
   ],
   "metadata": {}
  }
 ]
}