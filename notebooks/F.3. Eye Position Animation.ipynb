{
 "metadata": {
  "name": "F.3. Eye Position Animation"
 },
 "nbformat": 3,
 "nbformat_minor": 0,
 "worksheets": [
  {
   "cells": [
    {
     "cell_type": "markdown",
     "metadata": {},
     "source": [
      "#Eye Movement Animations\n",
      "\n",
      "Here we illustrate a cute, but perhaps not so scientifically useful, animated gaze position overlay cursor."
     ]
    },
    {
     "cell_type": "code",
     "collapsed": false,
     "input": [
      "import psychopy.iohub\n",
      "from psychopy.iohub.datastore.util import displayDataFileSelectionDialog, ExperimentDataAccessUtility\n",
      "from psychopy.iohub import EventConstants\n",
      "\n",
      "# A couple general Python imports....\n",
      "#\n",
      "import os\n",
      "import numpy as np\n",
      "import numpy\n",
      "\n",
      "# matplotlib related\n",
      "#\n",
      "import matplotlib.image as mpimg\n",
      "from matplotlib.collections import LineCollection\n",
      "from matplotlib.colors import ListedColormap, BoundaryNorm\n",
      "\n",
      "# Workshop helper code..\n",
      "from Py4ET_2013 import *\n",
      "\n",
      "# Useful define for which sections of ipython notebook code should only run\n",
      "# when a code cell is explicitly launched, not just loaded.\n",
      "#\n",
      "script =  __name__ == '__main__'"
     ],
     "language": "python",
     "metadata": {},
     "outputs": [],
     "prompt_number": 1
    },
    {
     "cell_type": "code",
     "collapsed": false,
     "input": [
      "playback_trial_index=1\n",
      "\n",
      "et_sampling_rate=120.0\n",
      "\n",
      "# in msec, so 1000/desired_playback_rate ~= desired frame rate in Hz.\n",
      "desired_playback_rate=20\n",
      "\n",
      "#\n",
      "# Load sample data from a ioDtaStore HDF5 file..\n",
      "#\n",
      "results_by_trial=loadSampleData()\n",
      "\n",
      "trial_data = results_by_trial[playback_trial_index]\n",
      "condition_set=trial_data.condition_set\n",
      "    \n",
      "# Get the image name used for display during the trial\n",
      "#\n",
      "image_name=condition_set.IMAGE_NAME\n",
      "trial_id=condition_set.trial_id\n",
      "# load the image\n",
      "#\n",
      "trial_image_array=numpy.flipud(mpimg.imread(\"./images/\"+image_name))\n",
      "\n",
      "# Get background image size\n",
      "image_size=(trial_image_array.shape[1],trial_image_array.shape[0])\n",
      "ihw,ihh=image_size[0]/2,image_size[1]/2\n",
      "    \n",
      "from matplotlib import animation\n",
      "\n",
      "dpi = 80\n",
      "margin = 0.05 # (5% of the width/height of the figure...)\n",
      "xpixels, ypixels = image_size\n",
      "\n",
      "# Make a figure big enough to accomodate an axis of xpixels by ypixels\n",
      "# as well as the ticklabels, etc...\n",
      "figsize = (1 + margin) * xpixels / dpi, (1 + margin) * ypixels / dpi\n",
      "\n",
      "fig = plt.figure(figsize=figsize, dpi=dpi)\n",
      "# Make the axis the right size...\n",
      "ax = fig.add_axes([margin, margin, 1 - 2*margin, 1 - 2*margin])\n",
      "\n",
      "circle = plt.Circle((1000, 1000), radius=12, facecolor='r',edgecolor='y', linewidth=2, alpha=0.7)\n",
      "time_text = ax.text(0.02, 0.95, '', color='black', fontsize=15, bbox={'facecolor':'red', 'alpha':0.5, 'pad':10},transform=ax.transAxes)\n",
      "\n",
      "ax.imshow(trial_image_array,origin='lower',extent=(-ihw, ihw,-ihh, ihh))\n",
      "\n",
      "plt.title(\"Trial {0}: {1}\".format(trial_id,image_name))\n",
      "lx=trial_data.left_gaze_x\n",
      "ly=trial_data.left_gaze_y\n",
      "rx=trial_data.right_gaze_x\n",
      "ry=trial_data.right_gaze_y\n",
      "t=trial_data.time\n",
      "\n",
      "ifi=1000.0/et_sampling_rate\n",
      "sample_frame_interval=desired_playback_rate//ifi+1\n",
      "actual_playback_rate=int(sample_frame_interval*ifi)\n",
      "\n",
      "sample_frame_count=int(len(t)//sample_frame_interval)\n",
      "\n",
      "def init():\n",
      "    ax.add_patch(circle)\n",
      "    time_text.set_text('time = %.1f sec' % t[0])\n",
      "    return circle,time_text\n",
      "\n",
      "def animate(i):\n",
      "    s=int(i*sample_frame_interval)\n",
      "    circle.center = (lx[s], ly[s])\n",
      "    time_text.set_text('time = %.1f sec' % t[s])\n",
      "    return circle,time_text\n",
      "\n",
      "anim = animation.FuncAnimation(fig, animate, \n",
      "                               init_func=init, \n",
      "                               frames=1, \n",
      "                               interval=actual_playback_rate,\n",
      "                               blit=False)\n",
      "\n",
      "anim = animation.FuncAnimation(fig, animate, \n",
      "                               init_func=init, \n",
      "                               frames=sample_frame_count, \n",
      "                               interval=actual_playback_rate,\n",
      "                               blit=True)"
     ],
     "language": "python",
     "metadata": {},
     "outputs": [],
     "prompt_number": 2
    },
    {
     "cell_type": "markdown",
     "metadata": {},
     "source": [
      "# Saving the Animation as a Video (and Displaying Video in a notebook after creation)\n",
      "\n",
      "This seems possible based on demo's and reports I have found on the web, but I could not get it to work. Perhaps some issue with my env. setup??\n",
      "\n",
      "If you want to give it a try, here is a link showing inline animation plots:\n",
      "\n",
      "[http://nickcharlton.net/posts/drawing-animating-shapes-matplotlib.html](http://nickcharlton.net/posts/drawing-animating-shapes-matplotlib.html)"
     ]
    },
    {
     "cell_type": "code",
     "collapsed": false,
     "input": [
      "from IPython.display import HTML\n",
      "HTML('<iframe src=http://nickcharlton.net/posts/drawing-animating-shapes-matplotlib.html width=700 height=450></iframe>')"
     ],
     "language": "python",
     "metadata": {},
     "outputs": [
      {
       "html": [
        "<iframe src=http://nickcharlton.net/posts/drawing-animating-shapes-matplotlib.html width=700 height=450></iframe>"
       ],
       "output_type": "pyout",
       "prompt_number": 3,
       "text": [
        "<IPython.core.display.HTML at 0x15cc2390>"
       ]
      }
     ],
     "prompt_number": 3
    },
    {
     "cell_type": "code",
     "collapsed": false,
     "input": [],
     "language": "python",
     "metadata": {},
     "outputs": [],
     "prompt_number": 3
    }
   ],
   "metadata": {}
  }
 ]
}